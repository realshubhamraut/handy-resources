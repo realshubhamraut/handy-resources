{
 "cells": [
  {
   "cell_type": "markdown",
   "metadata": {},
   "source": [
    "# Table of contents (Python Notes)\n",
    "\n",
    "## 1. Basics of Python\n",
    "\n",
    "- **1.1. Python Syntax and Comments**\n",
    "- **1.2. Variables and Data Types**\n",
    "  - Integers, Floats, Strings, Booleans\n",
    "- **1.3. Basic Input and Output**\n",
    "  - Using `input()` and `print()`\n",
    "\n",
    "## 2. Data Structures\n",
    "\n",
    "- **2.1. Lists**\n",
    "  - Basic operations, list methods\n",
    "- **2.2. Tuples**\n",
    "  - Immutable sequences\n",
    "- **2.3. Dictionaries**\n",
    "  - Key-value pairs, basic operations\n",
    "- **2.4. Sets**\n",
    "  - Unique items, set operations\n",
    "\n",
    "## 3. Control Structures\n",
    "\n",
    "- **3.1. If-Else Statements**\n",
    "  - Including `if`, `elif`, and `else`\n",
    "- **3.2. Loops**\n",
    "  - `for` and `while` loops\n",
    "  - `break` and `continue`\n",
    "\n",
    "\n",
    "## 4. Functions\n",
    "\n",
    "- **4.1. Defining and Calling Functions**\n",
    "- **4.2. Parameters and Return Values**\n",
    "- **4.3. Scope and Lifetime of Variables**\n",
    "\n",
    "## 5. Modules and Packages\n",
    "\n",
    "- **5.1. Importing Modules**\n",
    "  - Standard library modules like `math` and `random`\n",
    "- **5.2. Creating and Using Your Own Modules**\n",
    "\n",
    "\n",
    "## 6. Error Handling\n",
    "\n",
    "- **6.1. Exceptions**\n",
    "  - `try`, `except`, `finally` blocks\n",
    "\n",
    "## 7. Basic Object-Oriented Programming (OOP)\n",
    "\n",
    "- **7.1. Classes and Objects**\n",
    "- **7.2. Methods and Constructors (`__init__` method)**\n",
    "- **7.3. Basic Inheritance**\n",
    "\n",
    "## 8. Essential Python Libraries\n",
    "\n",
    "- **8.1. NumPy**\n",
    "  - zor numerical operations\n",
    "- **8.2. Pandas**\n",
    "  - For data manipulation and analysis\n",
    "- **8.3. Requests**\n",
    "  - For handling HTTP requests"
   ]
  },
  {
   "cell_type": "markdown",
   "metadata": {},
   "source": [
    "---"
   ]
  },
  {
   "cell_type": "markdown",
   "metadata": {},
   "source": [
    "## 1. Basics of Python\n"
   ]
  },
  {
   "cell_type": "code",
   "execution_count": 3,
   "metadata": {},
   "outputs": [
    {
     "name": "stdout",
     "output_type": "stream",
     "text": [
      "hello\n"
     ]
    }
   ],
   "source": [
    "print('hello')"
   ]
  },
  {
   "cell_type": "code",
   "execution_count": 4,
   "metadata": {},
   "outputs": [
    {
     "name": "stdout",
     "output_type": "stream",
     "text": [
      "shub\n"
     ]
    }
   ],
   "source": [
    "#variable\n",
    "var = 'shub'\n",
    "print(var)"
   ]
  },
  {
   "cell_type": "markdown",
   "metadata": {},
   "source": [
    "##### F-string use case"
   ]
  },
  {
   "cell_type": "code",
   "execution_count": 5,
   "metadata": {},
   "outputs": [
    {
     "name": "stdout",
     "output_type": "stream",
     "text": [
      "Teacher asked the name\n"
     ]
    }
   ],
   "source": [
    "# F-strings also knows as formatting strings, used for include variables in the output along with strings, for eg\n",
    "asker = 'Teacher'\n",
    "print(f'{asker} asked the name')"
   ]
  },
  {
   "cell_type": "markdown",
   "metadata": {},
   "source": [
    "## 2. Data Structures"
   ]
  },
  {
   "cell_type": "markdown",
   "metadata": {},
   "source": [
    "### Data Types\n"
   ]
  },
  {
   "cell_type": "markdown",
   "metadata": {},
   "source": [
    "##### 1. Numeric Types (int, float, complex)\n"
   ]
  },
  {
   "cell_type": "code",
   "execution_count": 6,
   "metadata": {},
   "outputs": [],
   "source": [
    "int_type = 1   \n",
    "float_type = 1.2\n",
    "complex_type = 1+2j    #to represent numbers with both real and imaginary parts"
   ]
  },
  {
   "cell_type": "markdown",
   "metadata": {},
   "source": [
    "#### 2.\tSequence Data Types (str, list, tuple)"
   ]
  },
  {
   "cell_type": "code",
   "execution_count": 7,
   "metadata": {},
   "outputs": [],
   "source": [
    "single_line_str = 'Hello, World!'\n",
    "multi_line_str = \"\"\"This is\n",
    "                 a multi-line\n",
    "                 string\"\"\"\n",
    "\n",
    "# string are immuatable (cannot change, only indexing and slicing operations are permitted)\n",
    "# coz of Efficiency, Optimization, Thread Safety\n",
    "# here ⬇ is how slicing, indexing works\n",
    "\n",
    "\n",
    "text = 'python'\n",
    "first_char = text[0]   #P\n",
    "slice_text = text[1:4] #yth"
   ]
  },
  {
   "cell_type": "markdown",
   "metadata": {},
   "source": [
    "| Data Structure | Characteristics                                                      | Use Cases                                                  | Example                                               |\n",
    "|----------------|----------------------------------------------------------------------|------------------------------------------------------------|-------------------------------------------------------|\n",
    "| **List**       | - Ordered <br> - Mutable <br> - Indexable                            | - Collections where order matters and modification is needed <br> - E.g., task lists, series of numbers | `fruits = ['apple', 'banana']` <br> `fruits.append('cherry')` |\n",
    "| **Tuple**      | - Ordered <br> - Immutable <br> - Indexable                          | - Fixed collections of items <br> - E.g., coordinates, RGB values, function returns | `coordinates = (10, 20)` <br> `x, y = coordinates`    |\n",
    "| **Dictionary** | - Ordered <br> - Mutable <br> - Key-Value Pairs | - Mapping keys to values <br> - E.g., phone books, user data | `student = {'name': 'Alice', 'age': 25}` <br> `student['age'] = 26` |\n",
    "| **Set**        | - Unordered <br> - Mutable <br> - Unique Elements                    | - Collections of unique items <br> - E.g., unique IDs, eliminating duplicates -  `frozenset() is immutable version of set` | `unique_numbers = {1, 2, 3, 4}` <br> `unique_numbers.add(5)` |"
   ]
  },
  {
   "cell_type": "markdown",
   "metadata": {},
   "source": [
    "#### operations on `lists`, `tuples`, `Dictionary`, `Sets`\n",
    "---\n",
    "here we have only performed examples on `list`, but these operations can be performed on other data structures as well"
   ]
  },
  {
   "cell_type": "code",
   "execution_count": 8,
   "metadata": {},
   "outputs": [
    {
     "data": {
      "text/plain": [
       "['apple', 'banana', 'cherry']"
      ]
     },
     "execution_count": 8,
     "metadata": {},
     "output_type": "execute_result"
    }
   ],
   "source": [
    "fruits = ['apple', 'banana', 'cherry']   #define a list\n",
    "fruits"
   ]
  },
  {
   "cell_type": "code",
   "execution_count": 9,
   "metadata": {},
   "outputs": [
    {
     "data": {
      "text/plain": [
       "'apple'"
      ]
     },
     "execution_count": 9,
     "metadata": {},
     "output_type": "execute_result"
    }
   ],
   "source": [
    "# indexing\n",
    "\n",
    "first_fruit = fruits[0]                      # apple - (as list start with index 0)\n",
    "first_fruit"
   ]
  },
  {
   "cell_type": "code",
   "execution_count": 10,
   "metadata": {},
   "outputs": [
    {
     "data": {
      "text/plain": [
       "['banana', 'cherry']"
      ]
     },
     "execution_count": 10,
     "metadata": {},
     "output_type": "execute_result"
    }
   ],
   "source": [
    "# You can access a range of elements using slicing.\n",
    "\n",
    "some_fruits = fruits[1:3]\n",
    "some_fruits"
   ]
  },
  {
   "cell_type": "code",
   "execution_count": 11,
   "metadata": {},
   "outputs": [
    {
     "data": {
      "text/plain": [
       "['apple', 'berry', 'cherry']"
      ]
     },
     "execution_count": 11,
     "metadata": {},
     "output_type": "execute_result"
    }
   ],
   "source": [
    "# modifying\n",
    "\n",
    "fruits[1] = 'berry'            \n",
    "fruits"
   ]
  },
  {
   "cell_type": "code",
   "execution_count": 12,
   "metadata": {},
   "outputs": [
    {
     "data": {
      "text/plain": [
       "['apple', 'berry', 'cherry', 'orange']"
      ]
     },
     "execution_count": 12,
     "metadata": {},
     "output_type": "execute_result"
    }
   ],
   "source": [
    "# appending\n",
    "\n",
    "fruits.append('orange')        \n",
    "fruits\n"
   ]
  },
  {
   "cell_type": "code",
   "execution_count": 13,
   "metadata": {},
   "outputs": [
    {
     "data": {
      "text/plain": [
       "['apple', 'kiwi', 'berry', 'cherry', 'orange']"
      ]
     },
     "execution_count": 13,
     "metadata": {},
     "output_type": "execute_result"
    }
   ],
   "source": [
    "# inserting at specific index \n",
    "\n",
    "fruits.insert(1, 'kiwi')       \n",
    "fruits"
   ]
  },
  {
   "cell_type": "code",
   "execution_count": 14,
   "metadata": {},
   "outputs": [
    {
     "data": {
      "text/plain": [
       "['apple', 'kiwi', 'berry', 'cherry']"
      ]
     },
     "execution_count": 14,
     "metadata": {},
     "output_type": "execute_result"
    }
   ],
   "source": [
    "# removing matching string\n",
    "\n",
    "fruits.remove('orange')          \n",
    "fruits"
   ]
  },
  {
   "cell_type": "code",
   "execution_count": 15,
   "metadata": {},
   "outputs": [
    {
     "data": {
      "text/plain": [
       "['apple', 'cherry']"
      ]
     },
     "execution_count": 15,
     "metadata": {},
     "output_type": "execute_result"
    }
   ],
   "source": [
    "# removing value from particular index\n",
    "fruits.pop(2)\n",
    "#or\n",
    "del fruits[1]\n",
    "\n",
    "fruits"
   ]
  },
  {
   "cell_type": "code",
   "execution_count": 16,
   "metadata": {},
   "outputs": [
    {
     "data": {
      "text/plain": [
       "'cherry'"
      ]
     },
     "execution_count": 16,
     "metadata": {},
     "output_type": "execute_result"
    }
   ],
   "source": [
    "# pop(): Removes and returns the item at a specified index (or the last item if no index is specified).\n",
    "\n",
    "last_fruit = fruits.pop()\n",
    "last_fruit"
   ]
  },
  {
   "cell_type": "code",
   "execution_count": 17,
   "metadata": {},
   "outputs": [
    {
     "data": {
      "text/plain": [
       "True"
      ]
     },
     "execution_count": 17,
     "metadata": {},
     "output_type": "execute_result"
    }
   ],
   "source": [
    "# Checking\n",
    "\n",
    "is_present = 'apple' in fruits \n",
    "is_present"
   ]
  },
  {
   "cell_type": "code",
   "execution_count": 18,
   "metadata": {},
   "outputs": [
    {
     "name": "stdout",
     "output_type": "stream",
     "text": [
      "['apple', 'orange', 'grape']\n",
      "['apple', 'apple']\n"
     ]
    }
   ],
   "source": [
    "# using operators to modify lists\n",
    "\n",
    "combined = fruits + ['orange', 'grape']\n",
    "repeated = fruits * 2\n",
    "\n",
    "print(combined)\n",
    "print(repeated)"
   ]
  },
  {
   "cell_type": "markdown",
   "metadata": {},
   "source": [
    "### Practical Use Case: Shopping List\n"
   ]
  },
  {
   "cell_type": "code",
   "execution_count": 19,
   "metadata": {},
   "outputs": [
    {
     "name": "stdout",
     "output_type": "stream",
     "text": [
      "['milk', 'eggs', 'butter']\n"
     ]
    }
   ],
   "source": [
    "shopping_list = ['milk', 'bread', 'eggs']\n",
    "shopping_list.append('butter')\n",
    "shopping_list.remove('bread')\n",
    "\n",
    "print(shopping_list)  "
   ]
  },
  {
   "cell_type": "markdown",
   "metadata": {},
   "source": [
    "## 3. Control Structures - IF / Elif / Else"
   ]
  },
  {
   "cell_type": "markdown",
   "metadata": {},
   "source": [
    "##### Basic IF"
   ]
  },
  {
   "cell_type": "code",
   "execution_count": 20,
   "metadata": {},
   "outputs": [
    {
     "name": "stdout",
     "output_type": "stream",
     "text": [
      "X is greater than 5\n"
     ]
    }
   ],
   "source": [
    "x = 10\n",
    "if x > 5:                              #condition\n",
    "    print('X is greater than 5')\n"
   ]
  },
  {
   "cell_type": "markdown",
   "metadata": {},
   "source": [
    "##### Adding Else"
   ]
  },
  {
   "cell_type": "code",
   "execution_count": 21,
   "metadata": {},
   "outputs": [
    {
     "name": "stdout",
     "output_type": "stream",
     "text": [
      "x is greater than 5\n"
     ]
    }
   ],
   "source": [
    "x = 10\n",
    "if x > 5:\n",
    "    print('x is greater than 5')\n",
    "else:\n",
    "    print('x is 5 or less')"
   ]
  },
  {
   "cell_type": "markdown",
   "metadata": {},
   "source": [
    "##### Using Elif or Multiple Conditions"
   ]
  },
  {
   "cell_type": "code",
   "execution_count": 22,
   "metadata": {},
   "outputs": [
    {
     "name": "stdout",
     "output_type": "stream",
     "text": [
      "x is 10\n"
     ]
    }
   ],
   "source": [
    "x = 10\n",
    "if x > 10:\n",
    "    print('X is greater then 10')\n",
    "elif x == 10:\n",
    "    print('x is 10')\n",
    "else:\n",
    "    print('x is less than 10')"
   ]
  },
  {
   "cell_type": "markdown",
   "metadata": {},
   "source": [
    "#### Real life analogy, usecase:\n",
    "##### (using if/elif/else):"
   ]
  },
  {
   "cell_type": "code",
   "execution_count": 23,
   "metadata": {},
   "outputs": [
    {
     "name": "stdout",
     "output_type": "stream",
     "text": [
      "The girl watching Netflix is of Adult category\n"
     ]
    }
   ],
   "source": [
    "age = int(input('Enter the age: '))\n",
    "if age > 18:\n",
    "    category = 'Adult'\n",
    "elif age >= 13:\n",
    "    category = 'Teen'\n",
    "else:\n",
    "    category = 'Child'\n",
    "\n",
    "print(f'The girl watching Netflix is of {category} category')\n"
   ]
  },
  {
   "cell_type": "markdown",
   "metadata": {},
   "source": [
    "#### Nesting if-else within each other:"
   ]
  },
  {
   "cell_type": "code",
   "execution_count": 24,
   "metadata": {},
   "outputs": [
    {
     "name": "stdout",
     "output_type": "stream",
     "text": [
      "x is greater than 5 and positive\n"
     ]
    }
   ],
   "source": [
    "x = 8                                              # Assign the value 8 to the variable x\n",
    "\n",
    "if x > 0:                                          # Check if x is greater than 0\n",
    "    if x > 5:                                      # If x is greater than 0, check if x is also greater than 5\n",
    "        print(\"x is greater than 5 and positive\")  # If x > 5, print this message\n",
    "    else:\n",
    "        print(\"x is positive but 5 or less\")       # If x is not greater than 5 but is greater than 0, print this message\n",
    "else:\n",
    "    print(\"x is zero or negative\")                 # If x is not greater than 0, print this message"
   ]
  },
  {
   "cell_type": "markdown",
   "metadata": {},
   "source": [
    "### For Loops"
   ]
  },
  {
   "cell_type": "markdown",
   "metadata": {},
   "source": [
    "#### How loops worked:\n",
    "\n",
    "- `fruits`: This is a list containing strings.\n",
    "- `fruit`: This is a loop variable that temporarily stores each element from the `fruits` list during the loop’s execution.\n",
    "- `print(fruit)`: This prints the current value of the variable `fruit`, and every next value that is in the list (looping all)\n",
    "\n",
    "---\n",
    "**Loops** can be used in the `tuples`, `list` and ` set - (while order is not guaranteed and will always ascending)`, as well as on `strings` and `numbers`"
   ]
  },
  {
   "cell_type": "code",
   "execution_count": 25,
   "metadata": {},
   "outputs": [
    {
     "name": "stdout",
     "output_type": "stream",
     "text": [
      "apple\n",
      "mango\n",
      "bannana\n"
     ]
    }
   ],
   "source": [
    "# used to repeatedly execute a code of block for each item in sequence.\n",
    "fruits = ['apple', 'mango', 'bannana'] \n",
    "for fruit in fruits:                      # variable 'fruit' is temporary placeholder to hold the value of current item in list, during each iteration\n",
    "    print(fruit) "
   ]
  },
  {
   "cell_type": "markdown",
   "metadata": {},
   "source": [
    "#### Using the range():"
   ]
  },
  {
   "cell_type": "markdown",
   "metadata": {},
   "source": [
    "#### here range() generates a sequence of numbers, which is often used to iterate over a sequence of numbers"
   ]
  },
  {
   "cell_type": "code",
   "execution_count": 26,
   "metadata": {},
   "outputs": [
    {
     "name": "stdout",
     "output_type": "stream",
     "text": [
      "0\n",
      "1\n",
      "2\n"
     ]
    }
   ],
   "source": [
    "for i in range(3):\n",
    "    print(i)"
   ]
  },
  {
   "cell_type": "markdown",
   "metadata": {},
   "source": [
    "#### here we can also iterate `string` but it requires slightly different way to define loop (as loops are usually used with numbers)"
   ]
  },
  {
   "cell_type": "code",
   "execution_count": 27,
   "metadata": {},
   "outputs": [
    {
     "name": "stdout",
     "output_type": "stream",
     "text": [
      "h\n",
      "e\n",
      "l\n",
      "l\n",
      "o\n"
     ]
    }
   ],
   "source": [
    "word = \"hello\"\n",
    "for letter in word:\n",
    "    print(letter)"
   ]
  },
  {
   "cell_type": "markdown",
   "metadata": {},
   "source": [
    "### Looping over a list of dictionaries"
   ]
  },
  {
   "cell_type": "code",
   "execution_count": 28,
   "metadata": {},
   "outputs": [
    {
     "name": "stdout",
     "output_type": "stream",
     "text": [
      "Alice is 34 years old\n",
      "Shubham is 22 years old\n",
      "Priyanka is 45 years old\n"
     ]
    }
   ],
   "source": [
    "students = [\n",
    "    {'name': \"Alice\", 'age': 34},\n",
    "    {'name': \"Shubham\", 'age': 22},\n",
    "    {'name': 'Priyanka', 'age': 45}\n",
    "]\n",
    "\n",
    "for student in students:\n",
    "    print(f\"{student['name']} is {student['age']} years old\")"
   ]
  },
  {
   "cell_type": "markdown",
   "metadata": {},
   "source": [
    "## 4. Functions"
   ]
  },
  {
   "cell_type": "code",
   "execution_count": 29,
   "metadata": {},
   "outputs": [],
   "source": [
    "#defining\n",
    "\n",
    "def greet():\n",
    "    print('hello world')"
   ]
  },
  {
   "cell_type": "code",
   "execution_count": 30,
   "metadata": {},
   "outputs": [
    {
     "name": "stdout",
     "output_type": "stream",
     "text": [
      "hello world\n"
     ]
    }
   ],
   "source": [
    "# calling\n",
    "\n",
    "greet()"
   ]
  },
  {
   "cell_type": "code",
   "execution_count": 31,
   "metadata": {},
   "outputs": [
    {
     "name": "stdout",
     "output_type": "stream",
     "text": [
      "Hello, Alice\n"
     ]
    }
   ],
   "source": [
    "# using functions with parameters\n",
    "\n",
    "def greet(name):\n",
    "    print(f'Hello, {name}')\n",
    "\n",
    "greet('Alice')      # assigning values to parameters, WE CALL this as ARGUMENTS"
   ]
  },
  {
   "cell_type": "code",
   "execution_count": 32,
   "metadata": {},
   "outputs": [
    {
     "name": "stdout",
     "output_type": "stream",
     "text": [
      "Hello, Guest!\n",
      "Hello, Shub!\n"
     ]
    }
   ],
   "source": [
    "# Default Parameters - which are used if no arguments are provided.\n",
    "\n",
    "def greet(name=\"Guest\"):\n",
    "    print(f\"Hello, {name}!\")\n",
    "\n",
    "greet()         # Output: Hello, Guest!       default compared to\n",
    "greet('Shub')   # Output: Hello, Shub!        assigned"
   ]
  },
  {
   "cell_type": "markdown",
   "metadata": {},
   "source": [
    "#### Return Statement"
   ]
  },
  {
   "cell_type": "code",
   "execution_count": 1,
   "metadata": {},
   "outputs": [
    {
     "name": "stdout",
     "output_type": "stream",
     "text": [
      "5\n"
     ]
    }
   ],
   "source": [
    "# The return statement is used to exit a function\n",
    "# and optionally pass back a value to the caller.\n",
    "\n",
    "def add(a, b):\n",
    "    return a + b\n",
    "\n",
    "result = add(2, 3)  # result is 5\n",
    "print(result)  # Output: 5"
   ]
  },
  {
   "cell_type": "markdown",
   "metadata": {},
   "source": [
    "#### Scope and Lifetime Variables"
   ]
  },
  {
   "cell_type": "markdown",
   "metadata": {},
   "source": [
    "Variables defined within a function are local to that function and cannot be accessed outside of it. This is known as the `scope` of the variable."
   ]
  },
  {
   "cell_type": "code",
   "execution_count": 2,
   "metadata": {},
   "outputs": [
    {
     "name": "stdout",
     "output_type": "stream",
     "text": [
      "Hello, world!\n"
     ]
    }
   ],
   "source": [
    "def greet():\n",
    "    message = \"Hello, world!\"\n",
    "    print(message)\n",
    "\n",
    "greet()\n",
    "# print(message)  # This would raise an error because 'message' is not accessible here"
   ]
  },
  {
   "cell_type": "markdown",
   "metadata": {},
   "source": [
    "#### Variable-Length Arguments"
   ]
  },
  {
   "cell_type": "markdown",
   "metadata": {},
   "source": [
    "Sometimes, you don’t know in advance how many arguments will be passed to a function. Python allows you to handle this using `*args` for non-keyword arguments and `**kwargs` for keyword **(keypairs)** arguments."
   ]
  },
  {
   "cell_type": "code",
   "execution_count": 3,
   "metadata": {},
   "outputs": [
    {
     "name": "stdout",
     "output_type": "stream",
     "text": [
      "6\n"
     ]
    }
   ],
   "source": [
    "def add(*args):\n",
    "    return sum(args)\n",
    "\n",
    "print(add(1, 2, 3))  # Output: 6"
   ]
  },
  {
   "cell_type": "code",
   "execution_count": 6,
   "metadata": {},
   "outputs": [
    {
     "name": "stdout",
     "output_type": "stream",
     "text": [
      "name: Alice\n",
      "age: 25\n",
      "city: New York\n"
     ]
    }
   ],
   "source": [
    "# Example with **kwargs:\n",
    "# used for (keypairs) arguments.\n",
    "\n",
    "def display_info(**kwargs):\n",
    "    for key, value in kwargs.items():\n",
    "        print(f\"{key}: {value}\")\n",
    "\n",
    "display_info(name=\"Alice\", age=25, city=\"New York\")\n",
    "\n",
    "# Output:\n",
    "# name: Alice\n",
    "# age: 25\n",
    "# city: New York"
   ]
  },
  {
   "cell_type": "markdown",
   "metadata": {},
   "source": [
    "#### Practical Use Case: A Simple Calculator Function"
   ]
  },
  {
   "cell_type": "code",
   "execution_count": 7,
   "metadata": {},
   "outputs": [
    {
     "name": "stdout",
     "output_type": "stream",
     "text": [
      "15\n"
     ]
    }
   ],
   "source": [
    "def calculator(operation, a, b):\n",
    "    if operation == 'add':\n",
    "        return a + b\n",
    "    elif operation == 'subtract':\n",
    "        return a - b\n",
    "    elif operation == 'multiply':\n",
    "        return a * b\n",
    "    elif operation == 'divide':\n",
    "        return a / b\n",
    "    else:\n",
    "        return \"Invalid operation\"\n",
    "\n",
    "result = calculator('add', 10, 5)\n",
    "print(result)  # Output: 15"
   ]
  },
  {
   "cell_type": "markdown",
   "metadata": {},
   "source": [
    "## 5. Modules and Packages"
   ]
  },
  {
   "cell_type": "markdown",
   "metadata": {},
   "source": [
    "- Python package is a directory containing multiple modules\n",
    "\n",
    "```\n",
    "my_package/\n",
    "    __init__.py\n",
    "    module1.py\n",
    "    module2.py\n",
    "```\n"
   ]
  },
  {
   "cell_type": "markdown",
   "metadata": {},
   "source": [
    "- A module is a single file containing normal Python code with statements.\n",
    "---\n",
    "- Modules are used to logically organize your Python code by `breaking it into manageable and reusable pieces`.\n",
    "---\n",
    "- `Package is a directory containing multiple modules`, and possibly sub-packages, which can be used across different parts of a project or in different projects\n"
   ]
  },
  {
   "cell_type": "markdown",
   "metadata": {},
   "source": [
    "---"
   ]
  },
  {
   "cell_type": "markdown",
   "metadata": {},
   "source": [
    "```\n",
    "mypackage/                 --- package\n",
    "    __init__.py            --- module\n",
    "    math_utils.py          --- module\n",
    "    string_utils.py        --- module\n",
    "```"
   ]
  },
  {
   "cell_type": "code",
   "execution_count": null,
   "metadata": {},
   "outputs": [],
   "source": [
    "\t#\tmypackage/: This is the package directory.\n",
    "\t#\t__init__.py: 1. This file makes Python treat the directory as a package.\n",
    "    #                2. It can be empty or include initialization code.\n",
    "    #                3. helps in initializing packages, controlling imports, and creating a package interface.\n",
    "\n",
    "\t#\tmath_utils.py:   A module with mathematical utility functions.\n",
    "\t#\tstring_utils.py: A module with string utility functions\n",
    "\n",
    "\n",
    "# ~~ CONTENT OF MODULES ~~\n",
    "\n",
    "# ----------------------------\n",
    "# ➜ mypackage/math_utils.py\n",
    "\n",
    "def add(a, b):\n",
    "    return a + b\n",
    "\n",
    "def subtract(a, b):\n",
    "    return a - b\n",
    "\n",
    "# -----------------------------\n",
    "# ➜ mypackage/string_utils.py\n",
    "\n",
    "def to_uppercase(text):\n",
    "    return text.upper()\n",
    "\n",
    "def to_lowercase(text):\n",
    "    return text.lower()\n",
    "\n",
    "\n",
    "\n",
    "# To make it easier to access the functions, you can include imports in the __init__.py file.\n",
    "# This file can be used to import selected functions from the modules,\n",
    "# making them available directly when the package is imported.\n",
    "\n",
    "\n",
    "\n",
    "# -----------------------------\n",
    "# ➜ mypackage/__init__.py\n",
    "\n",
    "# Import specific functions from the modules\n",
    "from .math_utils import add, subtract\n",
    "from .string_utils import to_uppercase, to_lowercase\n",
    "\n",
    "# Define what should be available when using 'from mypackage import *'\n",
    "__all__ = ['add', 'subtract', 'to_uppercase', 'to_lowercase']"
   ]
  },
  {
   "cell_type": "markdown",
   "metadata": {},
   "source": [
    "- Importing the Entire Package"
   ]
  },
  {
   "cell_type": "code",
   "execution_count": null,
   "metadata": {},
   "outputs": [],
   "source": [
    "# ➜ main.py\n",
    "\n",
    "import mypackage\n",
    "\n",
    "# Use functions from the package\n",
    "result1 = mypackage.add(2, 3)\n",
    "result2 = mypackage.to_uppercase('hello')\n",
    "\n",
    "print(result1)  # Output: 5\n",
    "print(result2)  # Output: HELLO"
   ]
  },
  {
   "cell_type": "markdown",
   "metadata": {},
   "source": [
    "- Importing Specific Functions\n"
   ]
  },
  {
   "cell_type": "code",
   "execution_count": null,
   "metadata": {},
   "outputs": [],
   "source": [
    "# ➜ main.py\n",
    "\n",
    "from mypackage import add, to_uppercase\n",
    "\n",
    "result1 = add(2, 3)\n",
    "result2 = to_uppercase('hello')\n",
    "\n",
    "print(result1)  # Output: 5\n",
    "print(result2)  # Output: HELLO"
   ]
  },
  {
   "cell_type": "markdown",
   "metadata": {},
   "source": [
    "# 6. Exception Handling"
   ]
  },
  {
   "cell_type": "code",
   "execution_count": 1,
   "metadata": {},
   "outputs": [],
   "source": [
    "# Exception handling in Python allows you to manage errors gracefully\n",
    "# without stopping the execution of the program.\n",
    "# It helps in debugging and makes your code more robust and user-friendly.\n",
    "\n",
    "# keywords used for exception handling are - try, except, else, and finally.\n"
   ]
  },
  {
   "cell_type": "markdown",
   "metadata": {},
   "source": [
    "#### Basic Exception Handling\n"
   ]
  },
  {
   "cell_type": "code",
   "execution_count": null,
   "metadata": {},
   "outputs": [],
   "source": [
    " # basic template of exception handling\n",
    "\n",
    "try:\n",
    "    # Code that may raise an exception\n",
    "    risky_code()\n",
    "except ExceptionType:\n",
    "    # Code that runs if the exception occurs\n",
    "    handle_exception()\n",
    "else:\n",
    "    # Code that runs if no exception occurs\n",
    "    run_if_no_exception()\n",
    "finally:\n",
    "    # Code that runs no matter what (cleanup code)\n",
    "    cleanup_code()"
   ]
  },
  {
   "cell_type": "markdown",
   "metadata": {},
   "source": [
    "#### Handling Specific Exceptions\n"
   ]
  },
  {
   "cell_type": "code",
   "execution_count": 2,
   "metadata": {},
   "outputs": [
    {
     "name": "stdout",
     "output_type": "stream",
     "text": [
      "Cannot divide by zero!\n"
     ]
    }
   ],
   "source": [
    "try:\n",
    "    result = 10 / 0\n",
    "except ZeroDivisionError:\n",
    "    print(\"Cannot divide by zero!\")"
   ]
  },
  {
   "cell_type": "markdown",
   "metadata": {},
   "source": [
    "#### Handling Multiple Exceptions\n",
    "\n",
    "multiple exceptions by specifying different `except` blocks.\n"
   ]
  },
  {
   "cell_type": "code",
   "execution_count": 18,
   "metadata": {},
   "outputs": [
    {
     "name": "stdout",
     "output_type": "stream",
     "text": [
      "Cannot divide by zero!\n"
     ]
    }
   ],
   "source": [
    "try:\n",
    "    result = 10 / 0\n",
    "except ZeroDivisionError:\n",
    "    print(\"Cannot divide by zero!\")\n",
    "except ValueError:\n",
    "    print(\"Invalid value!\")"
   ]
  },
  {
   "cell_type": "markdown",
   "metadata": {},
   "source": [
    "#### Using else Block"
   ]
  },
  {
   "cell_type": "code",
   "execution_count": null,
   "metadata": {},
   "outputs": [],
   "source": [
    "# The else block executes if the code inside the try block does not raise an exception.\n",
    "\n",
    "try:\n",
    "    result = 10 / 2\n",
    "except ZeroDivisionError:\n",
    "    print(\"Cannot divide by zero!\")\n",
    "else:\n",
    "    print(\"Division successful:\", result)"
   ]
  },
  {
   "cell_type": "markdown",
   "metadata": {},
   "source": [
    "#### Using the finally Block\n"
   ]
  },
  {
   "cell_type": "code",
   "execution_count": null,
   "metadata": {},
   "outputs": [],
   "source": [
    "# The finally block executes no matter what, allowing you to perform cleanup tasks.\n",
    "\n",
    "\n",
    "try:\n",
    "    file = open('example.txt', 'r')\n",
    "    content = file.read()\n",
    "except FileNotFoundError:\n",
    "    print(\"File not found.\")\n",
    "finally:\n",
    "    file.close()\n",
    "    print(\"File closed.\")"
   ]
  },
  {
   "cell_type": "markdown",
   "metadata": {},
   "source": [
    "### Practical Examples "
   ]
  },
  {
   "cell_type": "code",
   "execution_count": 4,
   "metadata": {},
   "outputs": [
    {
     "name": "stdout",
     "output_type": "stream",
     "text": [
      "File not found. Please check the file name and try again.\n"
     ]
    }
   ],
   "source": [
    "#  Example: Reading from a File with Exception Handling \n",
    "\n",
    "try:\n",
    "    with open('example.txt', 'r') as file:\n",
    "        content = file.read()\n",
    "        print(content)\n",
    "except FileNotFoundError:\n",
    "    print(\"File not found. Please check the file name and try again.\")\n",
    "except IOError:\n",
    "    print(\"An error occurred while accessing the file.\")"
   ]
  },
  {
   "cell_type": "code",
   "execution_count": 5,
   "metadata": {},
   "outputs": [
    {
     "name": "stdout",
     "output_type": "stream",
     "text": [
      "You entered: 12\n"
     ]
    }
   ],
   "source": [
    "# Example: Input Validation with Exception Handling\n",
    "\n",
    "def get_number():\n",
    "    while True:\n",
    "        try:\n",
    "            num = int(input(\"Enter a number: \"))\n",
    "            return num\n",
    "        except ValueError:\n",
    "            print(\"Invalid input. Please enter a valid number.\")\n",
    "\n",
    "number = get_number()\n",
    "print(\"You entered:\", number)"
   ]
  },
  {
   "cell_type": "code",
   "execution_count": 21,
   "metadata": {},
   "outputs": [
    {
     "name": "stdout",
     "output_type": "stream",
     "text": [
      "Age must be 18 or older.\n"
     ]
    }
   ],
   "source": [
    "# Raising Exceptions\n",
    "\n",
    "# You can raise exceptions in your code using the raise keyword.\n",
    "\n",
    "\n",
    "def check_age(age):\n",
    "    if age < 18:\n",
    "        raise ValueError(\"Age must be 18 or older.\")\n",
    "    return True\n",
    "\n",
    "try:\n",
    "    check_age(16)\n",
    "except ValueError as e:\n",
    "    print(e)"
   ]
  },
  {
   "cell_type": "code",
   "execution_count": 9,
   "metadata": {},
   "outputs": [
    {
     "name": "stdout",
     "output_type": "stream",
     "text": [
      "Something went wrong!\n"
     ]
    }
   ],
   "source": [
    "# Custom Exceptions\n",
    "\n",
    "# You can define custom exceptions by creating a new class\n",
    "# that inherits from the built-in Exception class\n",
    "\n",
    "# example\n",
    "\n",
    "class CustomError(Exception):     # This defines a custom exception class named CustomError.\n",
    "                                  # that inherits from Python's built-in Exception class.\n",
    "    pass                          # The pass statement indicates that this class does not add any new behavior to the Exception class\n",
    "\n",
    "def do_something_risky():                         # This function, do_something_risky, raises the CustomError exception\n",
    "    raise CustomError(\"Something went wrong!\")    # with a specific error message\n",
    "\n",
    "try:\n",
    "    do_something_risky()\n",
    "except CustomError as e:\n",
    "    print(e)\n"
   ]
  },
  {
   "cell_type": "markdown",
   "metadata": {},
   "source": [
    "### Summary:"
   ]
  },
  {
   "cell_type": "code",
   "execution_count": 1,
   "metadata": {},
   "outputs": [],
   "source": [
    "# Exception handling in Python allows you to manage errors gracefully,\n",
    "# making your code more robust and user-friendly.\n",
    "# It involves using try, except, else, and finally blocks to handle different scenarios, \n",
    "# and you can also raise and define custom exceptions as needed."
   ]
  },
  {
   "cell_type": "code",
   "execution_count": 4,
   "metadata": {},
   "outputs": [
    {
     "name": "stdout",
     "output_type": "stream",
     "text": [
      "age must be smaller or equal\n"
     ]
    }
   ],
   "source": [
    "def check_age(age):\n",
    "    if age > 12:\n",
    "        raise ValueError('age must be smaller or equal')\n",
    "    return True\n",
    "try:\n",
    "    check_age(51)\n",
    "except ValueError as e:\n",
    "    print(e)"
   ]
  },
  {
   "cell_type": "markdown",
   "metadata": {},
   "source": [
    "# 7. Classes and Objects "
   ]
  },
  {
   "cell_type": "code",
   "execution_count": 3,
   "metadata": {},
   "outputs": [],
   "source": [
    "# \t•\tWhat is OOP?\n",
    "# \t•\tOOP is a programming code structure that uses objects and classes to design overall software.\n",
    "# \t\tIt’s based on the idea of modeling real-world entities as objects.\n",
    "\n",
    "# \t•\tWhy OOP?\n",
    "# \t•\tOOP makes code more modular, reusable, and easier to maintain.\n",
    "# \t\tIt’s widely used in software development because it allows you to break down complex problems into manageable pieces."
   ]
  },
  {
   "cell_type": "code",
   "execution_count": 4,
   "metadata": {},
   "outputs": [],
   "source": [
    "# Basic Concepts of OOP\n",
    "\n",
    "# 1. Class:         A class is like a blueprint for creating objects. It defines the attributes and methods that the created objects will have.\n",
    "# 2. Object:        An object is an instance of a class. When a class is defined, we are able to create the objects for that class.\n",
    "# 3. Attributes:    These are variables that hold data related to a class and its objects. Attributes define the state of an object.\n",
    "# 4. Methods:       Methods are functions defined within a class that describe the behaviors of an object.\n",
    "# 5. Inheritance:   This allows one class (child class) to inherit attributes and methods from another class (parent class).\n",
    "# 6. Encapsulation: This is the practice of hiding the internal state and requiring all interaction to be performed through an object’s methods.\n",
    "# 7. Polymorphism:  This allows methods to do different things based on the object it is acting upon.\n",
    "# 8. Abstraction:   This is the concept of hiding complex implementation details and showing only the essential features of an object."
   ]
  },
  {
   "cell_type": "code",
   "execution_count": 1,
   "metadata": {},
   "outputs": [
    {
     "name": "stdout",
     "output_type": "stream",
     "text": [
      "Buddy\n",
      "3\n",
      "Buddy says woof!\n"
     ]
    }
   ],
   "source": [
    "class Dog:\n",
    "    # Constructor method to initialize object attributes\n",
    "    def __init__(self, name, age):      # This is the constructor method. gets called automatically when a new object (instance) of the class is created. It initializes the object’s attributes.\n",
    "        self.name = name\n",
    "        self.age = age\n",
    "\n",
    "# class Dog: This line defines a new class called Dog.\n",
    "# def init(self, name, age):\n",
    "# self: This is a reference to the current instance of the class. It is used to access variables and methods associated with the object.\n",
    "# self.name = name: This line assigns the value of the name parameter to the name attribute of the object.\n",
    "# self.age = age: This line assigns the value of the age parameter to the age attribute of the object.\n",
    "\n",
    "\n",
    "\n",
    "\n",
    "    # Method to simulate the dog barking\n",
    "    def bark(self):\n",
    "        return f\"{self.name} says woof!\"\n",
    "\n",
    "# Creating an object (instance) of the Dog class\n",
    "my_dog = Dog(\"Buddy\", 3)\n",
    "print(my_dog.name)  # Output: Buddy\n",
    "print(my_dog.age)   # Output: 3\n",
    "print(my_dog.bark())  # Output: Buddy says woof!\n",
    "\n"
   ]
  }
 ],
 "metadata": {
  "kernelspec": {
   "display_name": "Python 3",
   "language": "python",
   "name": "python3"
  },
  "language_info": {
   "codemirror_mode": {
    "name": "ipython",
    "version": 3
   },
   "file_extension": ".py",
   "mimetype": "text/x-python",
   "name": "python",
   "nbconvert_exporter": "python",
   "pygments_lexer": "ipython3",
   "version": "3.9.6"
  }
 },
 "nbformat": 4,
 "nbformat_minor": 4
}
