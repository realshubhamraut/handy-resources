{
 "cells": [
  {
   "cell_type": "markdown",
   "metadata": {},
   "source": [
    "### STD"
   ]
  },
  {
   "cell_type": "code",
   "execution_count": 5,
   "metadata": {},
   "outputs": [
    {
     "name": "stdout",
     "output_type": "stream",
     "text": [
      "0.82915619758885\n",
      "168.20671805846519\n"
     ]
    }
   ],
   "source": [
    "# STD - calcualtes how much the values differ to each other\n",
    "import numpy as np\n",
    "speed1 = [86,87,88,86]\n",
    "x = np.std(speed1)\n",
    "print(x)\n",
    "\n",
    "speed2 = [86,123,451,12]\n",
    "y = np.std(speed2)\n",
    "print(y)\n",
    "\n",
    "\n",
    "# here x and y differs a lot because of values are more spreadout in 'speed2'\n",
    "# if you take the square root of the variance, you get the standard deviation!"
   ]
  },
  {
   "cell_type": "markdown",
   "metadata": {},
   "source": []
  },
  {
   "cell_type": "code",
   "execution_count": 7,
   "metadata": {},
   "outputs": [
    {
     "name": "stdout",
     "output_type": "stream",
     "text": [
      "300.6875\n"
     ]
    }
   ],
   "source": [
    "import numpy as np\n",
    "speed = [1,5,12,45]\n",
    "variance = np.var(speed)\n",
    "print(variance)\n"
   ]
  },
  {
   "cell_type": "code",
   "execution_count": null,
   "metadata": {},
   "outputs": [],
   "source": []
  }
 ],
 "metadata": {
  "kernelspec": {
   "display_name": "base",
   "language": "python",
   "name": "python3"
  },
  "language_info": {
   "codemirror_mode": {
    "name": "ipython",
    "version": 3
   },
   "file_extension": ".py",
   "mimetype": "text/x-python",
   "name": "python",
   "nbconvert_exporter": "python",
   "pygments_lexer": "ipython3",
   "version": "3.9.6"
  }
 },
 "nbformat": 4,
 "nbformat_minor": 2
}
